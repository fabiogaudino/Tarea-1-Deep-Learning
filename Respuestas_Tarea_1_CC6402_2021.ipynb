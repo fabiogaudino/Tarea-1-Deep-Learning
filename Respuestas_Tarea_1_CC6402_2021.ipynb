{
  "nbformat": 4,
  "nbformat_minor": 0,
  "metadata": {
    "colab": {
      "name": "Respuestas_Tarea_1_CC6402_2021.ipynb",
      "provenance": [],
      "collapsed_sections": []
    },
    "kernelspec": {
      "name": "python3",
      "display_name": "Python 3"
    },
    "accelerator": "GPU"
  },
  "cells": [
    {
      "cell_type": "markdown",
      "metadata": {
        "id": "iCszeuRk0NuH"
      },
      "source": [
        "# Tarea 1: Activaciones y pasada hacia adelante en una red neuronal <br/> CC6204 Deep Learning, Universidad de Chile  <br/> Hoja de respuestas\n",
        "## Nombre: Fabio Gaudino\n",
        "Fecha de entrega: 6 de septiembre de 2021"
      ]
    },
    {
      "cell_type": "code",
      "metadata": {
        "id": "8QQB7jV7LMEo",
        "colab": {
          "base_uri": "https://localhost:8080/"
        },
        "outputId": "2a13024e-bef1-48b0-8688-46d994448f07"
      },
      "source": [
        "# Este notebook está pensado para correr en CoLaboratory. \n",
        "# Lo único imprescindible por importar es torch \n",
        "import torch\n",
        "\n",
        "# Posiblemenete quieras instalar e importar ipdb para debuggear.\n",
        "# Si es así, descomenta lo siguiente\n",
        "# !pip install -q ipdb\n",
        "# import ipdb\n",
        "\n",
        "# Aqui instalamos la libreria de correccion del curso\n",
        "!pip install \"git+https://github.com/dccuchile/CC6204.git@master#egg=cc6204&subdirectory=autocorrect\""
      ],
      "execution_count": null,
      "outputs": [
        {
          "output_type": "stream",
          "name": "stdout",
          "text": [
            "Collecting cc6204\n",
            "  Cloning https://github.com/dccuchile/CC6204.git (to revision master) to /tmp/pip-install-a3jckpsn/cc6204_02773517e2dd47c48efff581e5597065\n",
            "  Running command git clone -q https://github.com/dccuchile/CC6204.git /tmp/pip-install-a3jckpsn/cc6204_02773517e2dd47c48efff581e5597065\n",
            "Requirement already satisfied: requests in /usr/local/lib/python3.7/dist-packages (from cc6204) (2.23.0)\n",
            "Requirement already satisfied: numpy in /usr/local/lib/python3.7/dist-packages (from cc6204) (1.19.5)\n",
            "Requirement already satisfied: torch in /usr/local/lib/python3.7/dist-packages (from cc6204) (1.9.0+cu102)\n",
            "Requirement already satisfied: chardet<4,>=3.0.2 in /usr/local/lib/python3.7/dist-packages (from requests->cc6204) (3.0.4)\n",
            "Requirement already satisfied: urllib3!=1.25.0,!=1.25.1,<1.26,>=1.21.1 in /usr/local/lib/python3.7/dist-packages (from requests->cc6204) (1.24.3)\n",
            "Requirement already satisfied: certifi>=2017.4.17 in /usr/local/lib/python3.7/dist-packages (from requests->cc6204) (2021.5.30)\n",
            "Requirement already satisfied: idna<3,>=2.5 in /usr/local/lib/python3.7/dist-packages (from requests->cc6204) (2.10)\n",
            "Requirement already satisfied: typing-extensions in /usr/local/lib/python3.7/dist-packages (from torch->cc6204) (3.7.4.3)\n",
            "Building wheels for collected packages: cc6204\n",
            "  Building wheel for cc6204 (setup.py) ... \u001b[?25l\u001b[?25hdone\n",
            "  Created wheel for cc6204: filename=cc6204-0.5.0-py3-none-any.whl size=5800 sha256=275d6e96d0724fa8ac63633594695593c1a9b3ef0d41c5aeb74423aabb6c43ea\n",
            "  Stored in directory: /tmp/pip-ephem-wheel-cache-9tbjildd/wheels/3c/26/f5/2abeb546c3ff1ab6e69113a3ae69bc0ac3442642727fd0dcc2\n",
            "Successfully built cc6204\n",
            "Installing collected packages: cc6204\n",
            "Successfully installed cc6204-0.5.0\n"
          ]
        }
      ]
    },
    {
      "cell_type": "code",
      "metadata": {
        "id": "49OevYJkMdgW",
        "colab": {
          "base_uri": "https://localhost:8080/"
        },
        "outputId": "d07f9f3c-e7da-4f55-f3f9-47959386bbc5"
      },
      "source": [
        "# importamos las herramientas del curso\n",
        "from cc6204 import AutoCorrect, FailedTest\n",
        "\n",
        "# ingresa el host y port que posteamos en u-cursos\n",
        "\n",
        "corrector = AutoCorrect(host='cc6204.dcc.uchile.cl', port=443)\n",
        "\n",
        "# anota el token que te daremos en u-cursos\n",
        "\n",
        "token = ']ye/Ox;nsz'"
      ],
      "execution_count": null,
      "outputs": [
        {
          "output_type": "stream",
          "name": "stdout",
          "text": [
            "Connection stablished\n"
          ]
        }
      ]
    },
    {
      "cell_type": "markdown",
      "metadata": {
        "id": "Uq9u0IfT0VRp"
      },
      "source": [
        "# Parte 1: Funciones de activación y función de salida"
      ]
    },
    {
      "cell_type": "markdown",
      "metadata": {
        "id": "DMw80P8o0qrJ"
      },
      "source": [
        "## 1a) Funciones de activación"
      ]
    },
    {
      "cell_type": "code",
      "metadata": {
        "id": "tDhcNbNT0YNr"
      },
      "source": [
        "def sig(T):\n",
        "  if type(T)==list:\n",
        "    T=torch.tensor(T)\n",
        "  return torch.reciprocal(1 + torch.exp(-1 * T))\n",
        "\n",
        "def tanh(T):\n",
        "  if type(T)==list:\n",
        "    T=torch.tensor(T)\n",
        "  E = torch.exp(T)\n",
        "  e = torch.exp(-1 * T)\n",
        "  return (E - e) * torch.reciprocal(E + e)\n",
        "\n",
        "# Tu código acá\n",
        "def relu(T):\n",
        "  if type(T)==list:\n",
        "    T=torch.tensor(T)\n",
        "  zero=torch.zeros(T.size())\n",
        "  return torch.maximum(T, zero)\n",
        "\n",
        "def swish(T, beta=1): \n",
        "  if type(T)==list:\n",
        "    T=torch.tensor(T)\n",
        "  return T*sig(beta*T)\n",
        "\n",
        "def celu(T, alpha=1):\n",
        "  if type(T)==list:\n",
        "    T=torch.tensor(T)\n",
        "  x1=relu(T)\n",
        "  x2=alpha*(torch.exp(T*(1/alpha))-1)\n",
        "  zero2=torch.zeros(x2.size())\n",
        "  x2=torch.minimum(x2, zero2)\n",
        "  return x1+x2"
      ],
      "execution_count": null,
      "outputs": []
    },
    {
      "cell_type": "code",
      "metadata": {
        "id": "s0SmO2x7M1pn",
        "colab": {
          "base_uri": "https://localhost:8080/"
        },
        "outputId": "59fa7a5d-12eb-4bad-b445-0befe69e7548"
      },
      "source": [
        "# Tests del API del curso\n",
        "test_relu = corrector.get_test_data(homework=1, question=\"1a\", test=1, token=token)\n",
        "test_swish, swish_par = corrector.get_test_data(homework=1, question=\"1a\", test=2, token=token)\n",
        "test_celu, celu_par = corrector.get_test_data(homework=1, question=\"1a\", test=3, token=token)\n",
        "# probablemente quieras convertr los variables test_* a un tensor, ya que por defecto son listas\n",
        "\n",
        "corrector.submit(homework=1, question=\"1a\", test=1, token=token, answer=relu(test_relu))\n",
        "corrector.submit(homework=1, question=\"1a\", test=2, token=token, answer=swish(test_swish, swish_par))\n",
        "corrector.submit(homework=1, question=\"1a\", test=3, token=token, answer=celu(test_celu, celu_par))"
      ],
      "execution_count": null,
      "outputs": [
        {
          "output_type": "stream",
          "name": "stdout",
          "text": [
            "Correct Test!\n",
            "Correct Test!\n",
            "Correct Test!\n"
          ]
        }
      ]
    },
    {
      "cell_type": "markdown",
      "metadata": {
        "id": "e_0dTh7l1bas"
      },
      "source": [
        "## 1b) Softmax"
      ]
    },
    {
      "cell_type": "markdown",
      "metadata": {
        "id": "NjIyp2nL1le5"
      },
      "source": [
        "Demostración: \n",
        "\n",
        "Para la secuencia $(x_1,\\ldots,x_n)$  el resultado de $\\text{softmax}(x_1,\\ldots,x_n)$ es otra secuencia $(s_1,\\ldots,s_n)$ que cumple con:\n",
        "\n",
        "\\begin{equation}\n",
        "s_i = \\frac{e^{x_i}}{\\sum_{j=1}^{n}e^{x_j}}\n",
        "\\end{equation}\n",
        "\n",
        "Si le restamos un valor M a todos los elementos de la secuencia $(x_1,\\ldots,x_n)$ nos queda $(x_1-M,\\ldots,x_n-M)$. Luego evaluando estos elementos en la función softmax nos queda:\n",
        "\\begin{equation}\n",
        "s_i* = \\frac{e^{x_i-M}}{\\sum_{j=1}^{n}e^{x_j-M}}=\\frac{e^{x_i}e^{-M}}{\\sum_{j=1}^{n}e^{x_j}e^{-M}} = \\frac{e^{x_i}e^{-M}}{e^{-M}\\sum_{j=1}^{n}e^{x_j}} = \\frac{e^{x_i}}{\\sum_{j=1}^{n}e^{x_j}} = s_i\n",
        "\\end{equation}\n",
        "\n",
        "Como esto se cumple $ \\forall i \\in \\{1,\\ldots, n \\}$, concluimos que $\\text{softmax}(x_1-M,\\ldots,x_n-M)=\\text{softmax}(x_1,\\ldots,x_n)$."
      ]
    },
    {
      "cell_type": "code",
      "metadata": {
        "id": "jDg2sU7D1dIY"
      },
      "source": [
        "# Tu código acá\n",
        "\n",
        "def softmax(T, dim=1, estable=True):\n",
        "  if type(T)==list:\n",
        "    T=torch.tensor(T)\n",
        "  if estable:\n",
        "    T=T-torch.amax(T, dim, keepdim=True)\n",
        "  expT=torch.exp(T)\n",
        "  sumT=torch.sum(expT, dim, keepdim=True)\n",
        "  return expT * torch.reciprocal(sumT)\n",
        "  "
      ],
      "execution_count": null,
      "outputs": []
    },
    {
      "cell_type": "code",
      "metadata": {
        "id": "4nJhjuGZXgkM",
        "colab": {
          "base_uri": "https://localhost:8080/"
        },
        "outputId": "af91d7cc-275d-4df7-898b-e6b47801432d"
      },
      "source": [
        "# Tests del API del curso\n",
        "test_softmax, _dim = corrector.get_test_data(homework=1, question=\"1b\", test=1, token=token)\n",
        "corrector.sumbit(homework=1, question=\"1b\", test=1, token=token, answer=softmax(test_softmax, dim=_dim))"
      ],
      "execution_count": null,
      "outputs": [
        {
          "output_type": "stream",
          "name": "stderr",
          "text": [
            "/usr/local/lib/python3.7/dist-packages/ipykernel_launcher.py:3: FutureWarning: Old method `sumbit` has been renamed to `submit`, please use that instead.\n",
            "  This is separate from the ipykernel package so we can avoid doing imports until\n"
          ]
        },
        {
          "output_type": "stream",
          "name": "stdout",
          "text": [
            "Correct Test!\n"
          ]
        }
      ]
    },
    {
      "cell_type": "markdown",
      "metadata": {
        "id": "662XLsDA9XXI"
      },
      "source": [
        "# Parte 2: Red neuronal y pasada hacia adelante (forward)"
      ]
    },
    {
      "cell_type": "markdown",
      "metadata": {
        "id": "fTUm9ZbX9bRA"
      },
      "source": [
        "## 2a) Clase para red neuronal, 2b) Iterando por parametros, 2d) Pasada hacia adelante"
      ]
    },
    {
      "cell_type": "code",
      "metadata": {
        "id": "f_jeuYbv9WhK"
      },
      "source": [
        "# Tu código debiera continuar así \n",
        "\n",
        "class FFNN(torch.nn.Module):\n",
        "  def __init__(self, F, l_h, l_a, C):\n",
        "    #Verificamos que las variables sean validas:\n",
        "\n",
        "    #F:\n",
        "    assert type(F)==int, \"F debe ser una número entero\"\n",
        "\n",
        "    #l_h:\n",
        "    assert type(l_h)==list, \"l_h debe ser una lista\"\n",
        "\n",
        "    #l_a:\n",
        "    assert type(l_a)==list, \"l_a debe ser una lista\"\n",
        "    for funcion in l_a:\n",
        "      assert funcion in [sig, tanh, relu, swish, celu], \"La función de activación \"+str(funcion)+\" no es valida\"\n",
        "\n",
        "    #C:\n",
        "    assert type(C)==int and C>1, \"C debe ser un numero entero mayor o igual a 2\"\n",
        "    \n",
        "    #Definimos los parámetros de la clase:\n",
        "\n",
        "    super(FFNN, self).__init__()\n",
        "\n",
        "    #Funciones de activación\n",
        "    self.funciones_de_activacion = l_a\n",
        "\n",
        "    #W_1\n",
        "    self.entrada = torch.nn.Parameter(torch.rand(F,l_h[0]))\n",
        "\n",
        "    #b_1:\n",
        "    self.entrada_sesgo = torch.nn.Parameter(torch.zeros(1,l_h[0]))\n",
        "\n",
        "    #W_i, con i perteneciente a {2,...,L}; con L número de capas escondidas\n",
        "    self.capas_escondidas = torch.nn.ParameterList([torch.nn.Parameter(torch.rand(l_h[k], l_h[k+1])) for k in range(len(l_h)-1)]) \n",
        "\n",
        "    #b_i, con i perteneciente a {2,...,L}; con L número de capas escondidas\n",
        "    self.capas_escondidas_sesgo = torch.nn.ParameterList([torch.nn.Parameter(torch.zeros(1, l_h[k+1])) for k in range(len(l_h)-1)])\n",
        "\n",
        "    #U\n",
        "    self.salida = torch.nn.Parameter(torch.rand(l_h[len(l_h)-1],C))\n",
        "\n",
        "    #c (sesgo):\n",
        "\n",
        "    self.salida_sesgo = torch.nn.Parameter(torch.zeros(1,C))\n",
        "  \n",
        "  def resumen(self):\n",
        "    # usa self.parameters() o self.named_parameters()\n",
        "    print(\"Resumen parámetros:\")\n",
        "    for nombre, parametros in FFNN.named_parameters(self):\n",
        "      print('')\n",
        "      print(nombre)\n",
        "      print('dimensiones: '+str(parametros.size()))\n",
        "      print('')\n",
        "  \n",
        "  def forward(self, x):\n",
        "    # Usa los parámetros y funciones de activación.\n",
        "    # El valor de retorno debiera ser y = softmax(capa_de_salida).\n",
        "\n",
        "    #Capa de entrada:\n",
        "    h = self.funciones_de_activacion[0](x.mm(self.entrada) + self.entrada_sesgo)\n",
        "\n",
        "    #Capas ocultas:\n",
        "    numero_capas_escondidas=len(self.capas_escondidas)\n",
        "    for k in range(numero_capas_escondidas): \n",
        "      h = self.funciones_de_activacion[k+1](h.mm(self.capas_escondidas[k]) + self.capas_escondidas_sesgo[k])\n",
        "\n",
        "    #Capa de salida:   \n",
        "    h = h.mm(self.salida) + self.salida_sesgo \n",
        "    y = softmax(h,1)  \n",
        "    return y \n",
        "\n",
        "  def set_pesos(self, U, W1, W2, b1, b2, c):\n",
        "    self.entrada = torch.nn.Parameter(W1)\n",
        "    self.entrada_sesgo = torch.nn.Parameter(b1)\n",
        "    self.capas_escondidas = torch.nn.ParameterList([torch.nn.Parameter(W2)])\n",
        "    self.capas_escondidas_sesgo = torch.nn.ParameterList([torch.nn.Parameter(b2)])\n",
        "    self.salida = torch.nn.Parameter(U)\n",
        "    self.salida_sesgo = torch.nn.Parameter(c)"
      ],
      "execution_count": null,
      "outputs": []
    },
    {
      "cell_type": "markdown",
      "metadata": {
        "id": "Bgf5Xx-34Pa1"
      },
      "source": [
        "## 2c) Moviendo los parámetros entre dispositivos"
      ]
    },
    {
      "cell_type": "code",
      "metadata": {
        "id": "2zppplXd4QXa",
        "colab": {
          "base_uri": "https://localhost:8080/"
        },
        "outputId": "4d3d4704-94db-4ac3-ad24-f7fb10f99f68"
      },
      "source": [
        "# Tu código acá\n",
        "red_neuronal= FFNN(9999,[100,200,300],[relu, relu, relu],100) \n",
        "red_neuronal.to('cuda')\n",
        "!nvidia-smi\n",
        "!free -h"
      ],
      "execution_count": null,
      "outputs": [
        {
          "output_type": "stream",
          "name": "stdout",
          "text": [
            "Sat Sep 25 00:49:13 2021       \n",
            "+-----------------------------------------------------------------------------+\n",
            "| NVIDIA-SMI 470.63.01    Driver Version: 460.32.03    CUDA Version: 11.2     |\n",
            "|-------------------------------+----------------------+----------------------+\n",
            "| GPU  Name        Persistence-M| Bus-Id        Disp.A | Volatile Uncorr. ECC |\n",
            "| Fan  Temp  Perf  Pwr:Usage/Cap|         Memory-Usage | GPU-Util  Compute M. |\n",
            "|                               |                      |               MIG M. |\n",
            "|===============================+======================+======================|\n",
            "|   0  Tesla K80           Off  | 00000000:00:04.0 Off |                    0 |\n",
            "| N/A   37C    P0    58W / 149W |    468MiB / 11441MiB |      1%      Default |\n",
            "|                               |                      |                  N/A |\n",
            "+-------------------------------+----------------------+----------------------+\n",
            "                                                                               \n",
            "+-----------------------------------------------------------------------------+\n",
            "| Processes:                                                                  |\n",
            "|  GPU   GI   CI        PID   Type   Process name                  GPU Memory |\n",
            "|        ID   ID                                                   Usage      |\n",
            "|=============================================================================|\n",
            "|  No running processes found                                                 |\n",
            "+-----------------------------------------------------------------------------+\n",
            "              total        used        free      shared  buff/cache   available\n",
            "Mem:            12G        1.8G        7.4G        4.2M        3.4G         10G\n",
            "Swap:            0B          0B          0B\n"
          ]
        }
      ]
    },
    {
      "cell_type": "markdown",
      "metadata": {
        "id": "swTnKxznL6Ep"
      },
      "source": [
        "# Parte 3: Probando tu red con parámetros pre-entrenados para MNIST"
      ]
    },
    {
      "cell_type": "code",
      "metadata": {
        "id": "uOBcElJ7BPcQ",
        "colab": {
          "base_uri": "https://localhost:8080/"
        },
        "outputId": "d6a6a4f9-b08f-46a1-b3bf-46a76762ba68"
      },
      "source": [
        "from torchvision.datasets import MNIST\n",
        "from torchvision.transforms import ToTensor\n",
        "\n",
        "# Importamos funcionalidades útiles para mirar los datos.\n",
        "from matplotlib.pyplot import subplots\n",
        "import random\n",
        "\n",
        "# Descarga y almacena el conjunto de prueba de MNIST.\n",
        "dataset = MNIST('mnist', train=False, transform=ToTensor(), download=True)\n",
        "print('Cantidad total de datos:',len(dataset))\n",
        "\n"
      ],
      "execution_count": null,
      "outputs": [
        {
          "output_type": "stream",
          "name": "stdout",
          "text": [
            "Cantidad total de datos: 10000\n"
          ]
        }
      ]
    },
    {
      "cell_type": "markdown",
      "metadata": {
        "id": "s6s-z1DNL-J0"
      },
      "source": [
        "## 3b) Cargando los parámetros pre-entrenados"
      ]
    },
    {
      "cell_type": "code",
      "metadata": {
        "id": "GcEOXUCsPtmx"
      },
      "source": [
        "%%bash\n",
        "# Este comando es util para descargar los datos\n",
        "wget \\\n",
        "    --quiet \\\n",
        "    --no-clobber \\\n",
        "    --base https://raw.githubusercontent.com/dccuchile/CC6204/master/2020/tareas/tarea1/mnist_weights/ \\\n",
        "    --input-file - \\\n",
        "<<EOF\n",
        "U.txt\n",
        "W1.txt\n",
        "W2.txt\n",
        "b1.txt\n",
        "b2.txt\n",
        "c.txt\n",
        "EOF\n",
        "\n"
      ],
      "execution_count": null,
      "outputs": []
    },
    {
      "cell_type": "code",
      "metadata": {
        "id": "SLeq3y8FE3SU"
      },
      "source": [
        "#Importamos loadtxt para cargar los archivos .txt\n",
        "from numpy import loadtxt\n",
        "\n",
        "#Cargamos los parámetros .txt\n",
        "U = torch.from_numpy(loadtxt('/content/U.txt')).float()\n",
        "W1 = torch.from_numpy(loadtxt('/content/W1.txt')).float()\n",
        "W2 = torch.from_numpy(loadtxt('/content/W2.txt')).float()\n",
        "b1 = torch.from_numpy(loadtxt('/content/b1.txt')).float()\n",
        "b2 = torch.from_numpy(loadtxt('/content/b2.txt')).float()\n",
        "c = torch.from_numpy(loadtxt('/content/c.txt')).float()\n",
        "\n",
        "#Definimos la red neuronal\n",
        "nn1 = FFNN(784,[32,16],[relu,relu],10)\n",
        "\n",
        "#Inicializamos los parámetros\n",
        "nn1.set_pesos(U,W1,W2,b1,b2,c)"
      ],
      "execution_count": null,
      "outputs": []
    },
    {
      "cell_type": "markdown",
      "metadata": {
        "id": "WWRa68ZFMIyr"
      },
      "source": [
        "## 3c) Calcula la predicción de un ejemplo al azar"
      ]
    },
    {
      "cell_type": "code",
      "metadata": {
        "id": "a-SaIzRoMMoc",
        "colab": {
          "base_uri": "https://localhost:8080/",
          "height": 388
        },
        "outputId": "89fa5e82-974a-4d4d-9be6-8590040ecc80"
      },
      "source": [
        "# Tu código acá\n",
        "n_ejemplos=2\n",
        "fig, axs = subplots(nrows=2, figsize=(2,n_ejemplos*3))\n",
        "indice_img=[56, 99]\n",
        "for i in range(n_ejemplos):\n",
        "  T , l = dataset[indice_img[i]]\n",
        "  img = T.view(28,28).numpy()\n",
        "  axs[i].set_title(\"clase: \"+ str(l))\n",
        "  axs[i].imshow(img)\n",
        "  Prediccion = nn1.forward(T.view(1,784))\n",
        "  print('Predicción imagen '+ str(i+1)+ ': '+str(torch.argmax(Prediccion)))"
      ],
      "execution_count": null,
      "outputs": [
        {
          "output_type": "stream",
          "name": "stdout",
          "text": [
            "Predicción imagen 1: tensor(4)\n",
            "Predicción imagen 2: tensor(9)\n"
          ]
        },
        {
          "output_type": "display_data",
          "data": {
            "image/png": "[encoded data removed]",
            "text/plain": [
              "<Figure size 144x432 with 2 Axes>"
            ]
          },
          "metadata": {
            "needs_background": "light"
          }
        }
      ]
    },
    {
      "cell_type": "markdown",
      "metadata": {
        "id": "i1cZFU8rMNr1"
      },
      "source": [
        "## 3d) Pasando todos los ejemplos por la red con un `DataLoader`"
      ]
    },
    {
      "cell_type": "code",
      "metadata": {
        "id": "mL49_0ZAMRd_",
        "colab": {
          "base_uri": "https://localhost:8080/"
        },
        "outputId": "2537c5b5-d489-4d00-bf56-cc5aa1bf59de"
      },
      "source": [
        "# Acá tu código\n",
        "import time\n",
        "from torch.utils.data import DataLoader\n",
        "\n",
        "def calcula_acierto(red_neuronal, dataset, batch_size=100, device='cpu'):\n",
        "    red_neuronal.to('cpu')\n",
        "    dataloader = DataLoader(dataset, batch_size) #Cargamos los datos\n",
        "    aciertos_totales = torch.tensor([0]).cpu() \n",
        "    for x,y in dataloader: \n",
        "      x = x.view(batch_size,28*28).cpu() \n",
        "      clasificacion = red_neuronal.forward(x) \n",
        "      prediccion = torch.max(clasificacion,1)[1].cpu() \n",
        "      aciertos = torch.eq(prediccion,y.cpu()).sum().cpu() \n",
        "      aciertos_totales = aciertos_totales + aciertos \n",
        "\n",
        "    aciertos_totales  = aciertos_totales.cpu().tolist()[0] \n",
        "    return aciertos_totales/10000 * 100\n",
        "\n",
        "\n",
        "nn1 = FFNN(784,[32,16],[relu,relu],10) #Creamos la red_neuronal\n",
        "nn1.set_pesos(U,W1,W2,b1,b2,c) #Incorporamos los pesos entrenados \n",
        "\n",
        "tiempo_inicial = time.clock()  \n",
        "valor = calcula_acierto(nn1,dataset,100,'cpu')  \n",
        "tiempo = time.clock() - tiempo_inicial\n",
        "\n",
        "print('')\n",
        "print('Porcentaje de aciertos: '+str(valor)+ \"% \" + \", tiempo total: \" + str(tiempo))"
      ],
      "execution_count": null,
      "outputs": [
        {
          "output_type": "stream",
          "name": "stderr",
          "text": [
            "/usr/local/lib/python3.7/dist-packages/ipykernel_launcher.py:23: DeprecationWarning: time.clock has been deprecated in Python 3.3 and will be removed from Python 3.8: use time.perf_counter or time.process_time instead\n"
          ]
        },
        {
          "output_type": "stream",
          "name": "stdout",
          "text": [
            "\n",
            "Porcentaje de aciertos: 96.12% , tiempo total: 1.222409999999999\n"
          ]
        },
        {
          "output_type": "stream",
          "name": "stderr",
          "text": [
            "/usr/local/lib/python3.7/dist-packages/ipykernel_launcher.py:25: DeprecationWarning: time.clock has been deprecated in Python 3.3 and will be removed from Python 3.8: use time.perf_counter or time.process_time instead\n"
          ]
        }
      ]
    },
    {
      "cell_type": "markdown",
      "metadata": {
        "id": "0aKeQqw_c36O"
      },
      "source": [
        "Falto ver el caso en que la red neuronal trabaja con la gpu"
      ]
    },
    {
      "cell_type": "markdown",
      "metadata": {
        "id": "EKXqo4FpX2Id"
      },
      "source": [
        "### Corrección red"
      ]
    },
    {
      "cell_type": "code",
      "metadata": {
        "id": "JMcid2LRXzrg",
        "colab": {
          "base_uri": "https://localhost:8080/"
        },
        "outputId": "2efac507-9ef2-4c0a-d424-5c5c738baf6c"
      },
      "source": [
        "# Tests del API del curso\n",
        "from torch.utils.data import Subset\n",
        "indices = corrector.get_test_data(homework=1, question=\"network\", test=1, token=token)\n",
        "test_set = Subset(dataset, indices)\n",
        "\n",
        "# Modelo con los parámetros pre-entrenados para MNIST\n",
        "your_network = nn1\n",
        "\n",
        "# Montar el `test_set` en un tensor de (N, 28*28) usando DataLoader\n",
        "X = list(DataLoader(test_set, batch_size=len(test_set)))[0][0].view(-1, 28*28)\n",
        "\n",
        "# Almacenar el resultado en un puro tensor de (N,1)\n",
        "result = torch.argmax(your_network.forward(X), dim=1)\n",
        "\n",
        "corrector.submit(homework=1, question=\"network\", test=1, token=token, answer=result)"
      ],
      "execution_count": null,
      "outputs": [
        {
          "output_type": "stream",
          "name": "stdout",
          "text": [
            "Using cached test data\n",
            "Correct Test!\n"
          ]
        }
      ]
    },
    {
      "cell_type": "markdown",
      "metadata": {
        "id": "3pgWygWCMYTx"
      },
      "source": [
        "## 3e) Opcional: Muestra los casos en donde la red se equivoca"
      ]
    },
    {
      "cell_type": "code",
      "metadata": {
        "id": "FM_eP23XMaTn"
      },
      "source": [
        "# Acá tu código"
      ],
      "execution_count": null,
      "outputs": []
    },
    {
      "cell_type": "markdown",
      "metadata": {
        "id": "beF870pABHKe"
      },
      "source": [
        "## 3d) Opcional: Crea tus propios ejemplos de dígitos para clasificar"
      ]
    },
    {
      "cell_type": "code",
      "metadata": {
        "id": "KOqCJx4LBG1W"
      },
      "source": [
        "# Acá tu código"
      ],
      "execution_count": null,
      "outputs": []
    }
  ]
}